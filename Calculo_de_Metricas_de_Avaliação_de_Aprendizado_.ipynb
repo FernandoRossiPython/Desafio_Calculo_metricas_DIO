{
  "nbformat": 4,
  "nbformat_minor": 0,
  "metadata": {
    "colab": {
      "provenance": [],
      "authorship_tag": "ABX9TyORWpHZ3oXinYdK0n365wBS",
      "include_colab_link": true
    },
    "kernelspec": {
      "name": "python3",
      "display_name": "Python 3"
    },
    "language_info": {
      "name": "python"
    }
  },
  "cells": [
    {
      "cell_type": "markdown",
      "metadata": {
        "id": "view-in-github",
        "colab_type": "text"
      },
      "source": [
        "<a href=\"https://colab.research.google.com/github/FernandoRossiPython/Desafio_Calculo_metricas_DIO/blob/main/Calculo_de_Metricas_de_Avalia%C3%A7%C3%A3o_de_Aprendizado_.ipynb\" target=\"_parent\"><img src=\"https://colab.research.google.com/assets/colab-badge.svg\" alt=\"Open In Colab\"/></a>"
      ]
    },
    {
      "cell_type": "code",
      "execution_count": 18,
      "metadata": {
        "id": "mtWFPCKzCRUE"
      },
      "outputs": [],
      "source": [
        "#Cálculo de Métricas de Avaliação de Aprendizado\n",
        "import string\n",
        "import random\n",
        "import matplotlib.pyplot as plt\n"
      ]
    },
    {
      "cell_type": "code",
      "source": [
        "#Função Acurácia\n",
        "def acuracia(VP, VN, FP, FN):\n",
        "    return (VP + VN) / (VP + VN + FP + FN)\n",
        "\n",
        "#Função Sensibilidade\n",
        "def sensibilidade(VP, FN):\n",
        "    return (VP / (VP + FN) if (VP + FN) > 0 else 0)\n",
        "\n",
        "#FUnção Especificidade\n",
        "def especificidade(VN, FP):\n",
        "    return VN / (VN + FP) if (VN + FP) > 0 else 0\n",
        "\n",
        "#Função Precisão\n",
        "def precisao(VP, FP):\n",
        "    return VP / (VP + FP) if (VP+FP) > 0 else 0\n",
        "\n",
        "\n",
        "#Função F-Score\n",
        "def f_score(precisao, sensibilidade):\n",
        "    return 2 * (precisao * sensib) / (precisao + sensib) if (precisao+sensib) > 0 else 0\n"
      ],
      "metadata": {
        "id": "zSxGGxNaC0En"
      },
      "execution_count": 19,
      "outputs": []
    },
    {
      "cell_type": "code",
      "source": [
        "#Aqui eu vou fazer o jogo da forca com uma lista de 10frutas aleatorias\n",
        "frutas = [\n",
        "    \"MELANCIA\", \"ABACAXI\", \"MORANGO\", \"MAMAO\", \"LARANJA\", \"GOIABA\", \"MANGA\", \"BANANA\", \"ABACATE\", \"UVA\"\n",
        "]\n",
        "\n",
        "palavra = random.choice(frutas).upper() #Aleatorias Maiusculas\n",
        "\n",
        "tentativas = 10\n",
        "letras_certas = set()\n",
        "letras_erradas = set()\n",
        "\n",
        "while tentativas > 0:\n",
        "    print(\"\\nPalavra: \", ' '.join([letra if letra in letras_certas else '_' for letra in palavra]))\n",
        "    print(\"Letras já digitadas: \", ' '.join(sorted(letras_certas | letras_erradas)))\n",
        "    letra = input(\"Digite uma Letra: \").strip().upper() #remove espacos e deixa maiusculo\n",
        "\n",
        "    if len(letra) != 1 or letra not in string.ascii_uppercase:\n",
        "        print(\"Digite apenas uma letra valida!\")\n",
        "        continue\n",
        "\n",
        "    if letra in letras_certas or letra in letras_erradas:\n",
        "        print(\"você ja tentou essa letra! \")\n",
        "        continue\n",
        "\n",
        "    if letra in palavra:\n",
        "        letras_certas.add(letra)\n",
        "        print(\"Acertou\")\n",
        "    else:\n",
        "        letras_erradas.add(letra)\n",
        "        tentativas -= 1\n",
        "        print(f\"Errou, Restam {tentativas} tentativas!\")\n",
        "\n",
        "    if all(l in letras_certas for l in set(palavra)):\n",
        "        print(f\"Parabens, você acertou a palavra: \", palavra)\n",
        "        break\n",
        "else:\n",
        "    print(f\"Você perdeu! A palavra era: \", palavra)\n",
        "\n",
        "# Cálculo das métricas de avaliação ao final\n",
        "# ============================================\n",
        "todas_letras = set(string.ascii_uppercase)      # Conjunto de todas as letras do alfabeto.\n",
        "letras_corretas = set(palavra)                  # Letras que compõem a palavra secreta.\n",
        "letras_incorretas = todas_letras - letras_corretas  # Letras que NÃO estão na palavra.\n",
        "\n",
        "# VP: Letras corretas adivinhadas.\n",
        "VP = len(letras_certas & letras_corretas)\n",
        "# FP: Letras erradas tentadas pelo jogador.\n",
        "FP = len(letras_erradas & letras_incorretas)\n",
        "# VN: Letras erradas que o jogador NÃO tentou.\n",
        "VN = len(letras_incorretas - letras_erradas)\n",
        "# FN: Letras certas que o jogador NÃO tentou.\n",
        "FN = len(letras_corretas - letras_certas)\n",
        "\n",
        "# Calcula as métricas usando as funções definidas.\n",
        "acc = acuracia(VP, VN, FP, FN)\n",
        "sensib = sensibilidade(VP, FN)\n",
        "espec = especificidade(VN, FP)\n",
        "prec = precisao(VP, FP)\n",
        "fscore = f_score(prec, sensib)\n",
        "\n",
        "# Exibe ao usuário as métricas do seu desempenho no jogo.\n",
        "print(\"\\n--- Métricas do desempenho ---\")\n",
        "print(f\"Acurácia:      {acc:.2%}\")\n",
        "print(f\"Sensibilidade: {sensib:.2%}\")\n",
        "print(f\"Especificidade:{espec:.2%}\")\n",
        "print(f\"Precisão:      {prec:.2%}\")\n",
        "print(f\"F-score:       {fscore:.2%}\")\n",
        "\n",
        "print(f\"VP={VP}, FP={FP}, VN={VN}, FN={FN}\")\n",
        "\n",
        "\n",
        "\n",
        "\n"
      ],
      "metadata": {
        "colab": {
          "base_uri": "https://localhost:8080/"
        },
        "id": "_Tj8LQTDE99Z",
        "outputId": "06c0d11d-bf7d-410c-a0c4-c721224a16b8"
      },
      "execution_count": 21,
      "outputs": [
        {
          "output_type": "stream",
          "name": "stdout",
          "text": [
            "\n",
            "Palavra:  _ _ _ _ _ _ _\n",
            "Letras já digitadas:  \n",
            "Digite uma Letra: a\n",
            "Acertou\n",
            "\n",
            "Palavra:  A _ A _ A _ _\n",
            "Letras já digitadas:  A\n",
            "Digite uma Letra: b\n",
            "Acertou\n",
            "\n",
            "Palavra:  A B A _ A _ _\n",
            "Letras já digitadas:  A B\n",
            "Digite uma Letra: c\n",
            "Acertou\n",
            "\n",
            "Palavra:  A B A C A _ _\n",
            "Letras já digitadas:  A B C\n",
            "Digite uma Letra: x\n",
            "Errou, Restam 9 tentativas!\n",
            "\n",
            "Palavra:  A B A C A _ _\n",
            "Letras já digitadas:  A B C X\n",
            "Digite uma Letra: i\n",
            "Errou, Restam 8 tentativas!\n",
            "\n",
            "Palavra:  A B A C A _ _\n",
            "Letras já digitadas:  A B C I X\n",
            "Digite uma Letra: x\n",
            "você ja tentou essa letra! \n",
            "\n",
            "Palavra:  A B A C A _ _\n",
            "Letras já digitadas:  A B C I X\n",
            "Digite uma Letra: t\n",
            "Acertou\n",
            "\n",
            "Palavra:  A B A C A T _\n",
            "Letras já digitadas:  A B C I T X\n",
            "Digite uma Letra: e\n",
            "Acertou\n",
            "Parabens, você acertou a palavra:  ABACATE\n",
            "\n",
            "--- Métricas do desempenho ---\n",
            "Acurácia:      92.31%\n",
            "Sensibilidade: 100.00%\n",
            "Especificidade:90.48%\n",
            "Precisão:      71.43%\n",
            "F-score:       83.33%\n",
            "VP=5, FP=2, VN=19, FN=0\n"
          ]
        }
      ]
    }
  ]
}